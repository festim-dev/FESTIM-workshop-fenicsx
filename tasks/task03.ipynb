{
 "cells": [
  {
   "cell_type": "markdown",
   "metadata": {},
   "source": [
    "# Permeation with trapping"
   ]
  },
  {
   "cell_type": "code",
   "execution_count": 1,
   "metadata": {},
   "outputs": [
    {
     "data": {
      "application/vnd.jupyter.widget-view+json": {
       "model_id": "1b097e283f99437686e1c1c72061db48",
       "version_major": 2,
       "version_minor": 0
      },
      "text/plain": [
       "Solving H transport problem:   0%|          | 0.00/50.0 [00:00<?, ?it/s]"
      ]
     },
     "metadata": {},
     "output_type": "display_data"
    }
   ],
   "source": [
    "import festim as F\n",
    "import numpy as np\n",
    "\n",
    "L = 3e-04\n",
    "vertices = np.linspace(0, L, num=1000)\n",
    "\n",
    "my_mesh = F.Mesh1D(vertices)\n",
    "\n",
    "my_model = F.HydrogenTransportProblem()\n",
    "my_model.mesh = my_mesh\n",
    "\n",
    "my_mat = F.Material(D_0=1.9e-7, E_D=0.2, name=\"my_mat\")\n",
    "my_subdomain = F.VolumeSubdomain1D(id=1, borders=[0, L], material=my_mat)\n",
    "left_surface = F.SurfaceSubdomain1D(id=1, x=0)\n",
    "right_surface = F.SurfaceSubdomain1D(id=2, x=L)\n",
    "my_model.subdomains = [\n",
    "    my_subdomain,\n",
    "    left_surface,\n",
    "    right_surface,\n",
    "]\n",
    "\n",
    "mobile_H = F.Species(\"H\")\n",
    "trapped_H = F.Species(\"trapped_H\", mobile=False)\n",
    "empty_trap = F.ImplicitSpecies(n=1e19, others=[trapped_H], name=\"empty_trap\")\n",
    "my_model.species = [mobile_H, trapped_H]\n",
    "\n",
    "my_model.reactions = [\n",
    "    F.Reaction(\n",
    "        p_0=1e13,\n",
    "        E_p=1.2,\n",
    "        k_0=3.8e-17,\n",
    "        E_k=0.2,\n",
    "        reactant1=mobile_H,\n",
    "        reactant2=empty_trap,\n",
    "        product=trapped_H,\n",
    "        volume=my_subdomain,\n",
    "    )\n",
    "]\n",
    "\n",
    "my_model.temperature = 500\n",
    "\n",
    "my_model.boundary_conditions = [\n",
    "    F.DirichletBC(subdomain=right_surface, value=0, species=\"H\"),\n",
    "    F.DirichletBC(subdomain=left_surface, value=1e12, species=mobile_H),\n",
    "]\n",
    "my_model.exports = [\n",
    "    F.VTXExport(\"mobile_concentration_h.bp\", field=mobile_H),  # produces 0 in file\n",
    "    F.VTXExport(\"trapped_concentration_h.bp\", field=trapped_H),  # produces 0 in file\n",
    "    F.XDMFExport(\"mobile_concentration_h.xdmf\", field=mobile_H),\n",
    "    F.XDMFExport(\"trapped_concentration_h.xdmf\", field=trapped_H),\n",
    "    F.SurfaceFlux(field=mobile_H, surface=right_surface),\n",
    "]\n",
    "\n",
    "my_model.settings = F.Settings(\n",
    "    atol=1e10,\n",
    "    rtol=1e-10,\n",
    "    max_iterations=30,\n",
    "    final_time=50,\n",
    ")\n",
    "\n",
    "my_model.settings.stepsize = F.Stepsize(initial_value=1 / 20)\n",
    "\n",
    "my_model.initialise()\n",
    "\n",
    "from petsc4py import PETSc\n",
    "\n",
    "my_model.solver.convergence_criterion = \"incremental\"\n",
    "ksp = my_model.solver.krylov_solver\n",
    "opts = PETSc.Options()\n",
    "option_prefix = ksp.getOptionsPrefix()\n",
    "opts[f\"{option_prefix}ksp_type\"] = \"cg\"\n",
    "opts[f\"{option_prefix}pc_type\"] = \"gamg\"\n",
    "opts[f\"{option_prefix}pc_factor_mat_solver_type\"] = \"mumps\"\n",
    "ksp.setFromOptions()\n",
    "\n",
    "my_model.run()"
   ]
  },
  {
   "cell_type": "code",
   "execution_count": 2,
   "metadata": {},
   "outputs": [
    {
     "data": {
      "text/plain": [
       "Text(0, 0.5, 'Surface flux (H/m²/s)')"
      ]
     },
     "execution_count": 2,
     "metadata": {},
     "output_type": "execute_result"
    },
    {
     "data": {
      "image/png": "[encoded data removed]",
      "text/plain": [
       "<Figure size 640x480 with 1 Axes>"
      ]
     },
     "metadata": {},
     "output_type": "display_data"
    }
   ],
   "source": [
    "import matplotlib.pyplot as plt\n",
    "surf_flux = my_model.exports[-1]\n",
    "plt.plot(surf_flux.t, surf_flux.data)\n",
    "plt.xlabel(\"Time (s)\")\n",
    "plt.ylabel(\"Surface flux (H/m²/s)\")"
   ]
  }
 ],
 "metadata": {
  "kernelspec": {
   "display_name": "festim-workshopx",
   "language": "python",
   "name": "python3"
  },
  "language_info": {
   "codemirror_mode": {
    "name": "ipython",
    "version": 3
   },
   "file_extension": ".py",
   "mimetype": "text/x-python",
   "name": "python",
   "nbconvert_exporter": "python",
   "pygments_lexer": "ipython3",
   "version": "3.12.2"
  }
 },
 "nbformat": 4,
 "nbformat_minor": 2
}
